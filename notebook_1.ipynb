{
 "cells": [
  {
   "cell_type": "markdown",
   "id": "723c5053",
   "metadata": {},
   "source": [
    "### Imports"
   ]
  },
  {
   "cell_type": "code",
   "execution_count": 10,
   "id": "217ae81d",
   "metadata": {},
   "outputs": [],
   "source": [
    "# standard library\n",
    "import sys, copy\n",
    "\n",
    "# external packages\n",
    "import torch\n",
    "from torchvision import datasets, transforms\n",
    "from torch import nn, optim\n",
    "from torchvision.datasets import MNIST\n",
    "from torchvision.transforms import ToTensor\n",
    "\n",
    "import syft as sy\n",
    "import numpy as np\n",
    "import matplotlib.pyplot as plt\n",
    "\n",
    "# local packages\n",
    "from utils import add_ids \n",
    "from data_loader import VerticalDataLoader\n",
    "from class_split_data_loader import ClassSplitDataLoader\n",
    "from shared_NN import SharedNN"
   ]
  },
  {
   "cell_type": "code",
   "execution_count": 20,
   "id": "7ef88b06",
   "metadata": {},
   "outputs": [],
   "source": [
    "# Initialize important variables\n",
    "#hook = sy.TorchHook(torch)\n",
    "torch.manual_seed(0)\n",
    "n_encoders = 3 #number of encoders we will train\n",
    "epochs = 20"
   ]
  },
  {
   "cell_type": "markdown",
   "id": "ec01dcd1",
   "metadata": {},
   "source": [
    "### Load data"
   ]
  },
  {
   "cell_type": "code",
   "execution_count": 21,
   "id": "8f19b976",
   "metadata": {},
   "outputs": [],
   "source": [
    "# import data\n",
    "data_train = add_ids(MNIST)(\".\", download=True, transform=ToTensor())\n",
    "data_test  = add_ids(MNIST)(\".\", train=False, download=True, transform=ToTensor())"
   ]
  },
  {
   "cell_type": "code",
   "execution_count": 22,
   "id": "445fc379",
   "metadata": {},
   "outputs": [],
   "source": [
    "# and create dataloaders\n",
    "dataloaders = []\n",
    "dataloaders_test = []\n",
    "for k in range(n_encoders):\n",
    "    dataloader = ClassSplitDataLoader(data_train, class_to_keep=k, remove_data=False, keep_order=True, batch_size=128) \n",
    "    dataloaders.append(dataloader)\n",
    "    dataloader = ClassSplitDataLoader(data_test, class_to_keep=k, remove_data=False, keep_order=True, batch_size=128) \n",
    "    dataloaders_test.append(dataloader)\n",
    "    # partition_dataset uses by default \"remove_data=True, keep_order=False\"\n",
    "    # Do not do this for now"
   ]
  },
  {
   "cell_type": "markdown",
   "id": "69c58d83",
   "metadata": {},
   "source": [
    "### Create networks"
   ]
  },
  {
   "cell_type": "code",
   "execution_count": 23,
   "id": "09304998",
   "metadata": {},
   "outputs": [],
   "source": [
    "\n",
    "input_size = 784\n",
    "hidden_sizes = [512, 256]\n",
    "encoded_size = 128\n",
    "\n",
    "encoder = nn.Sequential(\n",
    "        nn.Linear(input_size, hidden_sizes[0]),\n",
    "        nn.ReLU(),\n",
    "        nn.Linear(hidden_sizes[0], hidden_sizes[1]),\n",
    "        nn.ReLU(),\n",
    "        nn.Linear(hidden_sizes[1], encoded_size),\n",
    "        nn.ReLU(),\n",
    "    )\n",
    "decoder = nn.Sequential(\n",
    "        nn.Linear(encoded_size, hidden_sizes[1]),\n",
    "        nn.ReLU(),\n",
    "        nn.Linear(hidden_sizes[1], hidden_sizes[0]),\n",
    "        nn.ReLU(),\n",
    "        nn.Linear(hidden_sizes[0], input_size),\n",
    "        #nn.LogSoftmax(dim=1),\n",
    "    )\n",
    "models = [copy.deepcopy(encoder) for k in range(n_encoders)] + [decoder]\n",
    "\n",
    "# Create optimisers for each segment and link to them\n",
    "optimizers = [optim.Adam(model.parameters(), lr=1e-3,) for model in models]\n"
   ]
  },
  {
   "cell_type": "code",
   "execution_count": 24,
   "id": "b8bc0c45",
   "metadata": {},
   "outputs": [],
   "source": [
    "## Define training functions\n",
    "def forward(encoder_index, input_vector):\n",
    "    encoder_output = models[encoder_index](input_vector)\n",
    "    encoded_vector = encoder_output.clone().detach()\n",
    "    encoded_vector = encoded_vector.requires_grad_()\n",
    "    decoder = models[-1]\n",
    "    return encoder_output, encoded_vector, decoder(encoded_vector)\n",
    "\n",
    "def backward(encoder_output, encoded_vector):\n",
    "    grads = encoded_vector.grad.clone().detach()\n",
    "    encoder_output.backward(grads)\n",
    "    "
   ]
  },
  {
   "cell_type": "markdown",
   "id": "1b39ca89",
   "metadata": {},
   "source": [
    "### Train networks"
   ]
  },
  {
   "cell_type": "code",
   "execution_count": 29,
   "id": "9761202e",
   "metadata": {},
   "outputs": [
    {
     "name": "stdout",
     "output_type": "stream",
     "text": [
      "Epoch 0/20\n",
      "Epoch 1/20\n",
      "Epoch 2/20\n",
      "Epoch 3/20\n",
      "Epoch 4/20\n",
      "Epoch 5/20\n",
      "Epoch 6/20\n",
      "Epoch 7/20\n",
      "Epoch 8/20\n",
      "Epoch 9/20\n",
      "Epoch 10/20\n",
      "Epoch 11/20\n",
      "Epoch 12/20\n",
      "Epoch 13/20\n",
      "Epoch 14/20\n",
      "Epoch 15/20\n",
      "Epoch 16/20\n",
      "Epoch 17/20\n",
      "Epoch 18/20\n",
      "Epoch 19/20\n"
     ]
    }
   ],
   "source": [
    "train_perf, test_perf = [], []\n",
    "for i in range(epochs):\n",
    "    running_loss = np.zeros(n_encoders)\n",
    "    running_test_MSE = np.zeros(n_encoders)\n",
    "    \n",
    "    for k in range(n_encoders):\n",
    "        # for now, train the encoders one after another\n",
    "        dataloader = dataloaders[k]\n",
    "        \n",
    "        for ((data, ids),) in dataloader:\n",
    "            # Train a model\n",
    "            data = data.view(data.shape[0], -1)\n",
    "            \n",
    "            #1) Zero our grads\n",
    "            for opt in optimizers:\n",
    "                opt.zero_grad()\n",
    "            \n",
    "            #2) Make a prediction and move it to the encoder\n",
    "            encoder_output, encoded_vector, pred = forward(k, data)\n",
    "            \n",
    "            #3) Figure out how much we missed by\n",
    "            criterion = nn.MSELoss()\n",
    "            loss = criterion(pred, data)\n",
    "            \n",
    "            #4) Backprop the loss on the end layer\n",
    "            loss.backward()\n",
    "            \n",
    "            #5) Feed Gradients backward through the network\n",
    "            backward(encoder_output, encoded_vector)\n",
    "            \n",
    "            #6) Change the weights\n",
    "            for opt in optimizers:\n",
    "                opt.step()\n",
    "\n",
    "            # Collect statistics\n",
    "            running_loss[k] += loss.item()\n",
    "        \n",
    "        # Evaluate performance on test data\n",
    "        dataloader_test = dataloaders_test[k]\n",
    "        for ((data, ids),) in dataloader_test:\n",
    "            data = data.view(data.shape[0], -1)\n",
    "            pred = models[-1](models[k](data))\n",
    "            #accuracy for an autoencoder is the distance between data and pred\n",
    "            running_test_MSE[k] += nn.MSELoss()(pred,data).item()\n",
    "            \n",
    "    \n",
    "    print(f\"Epoch {i}/{epochs}\"\n",
    "            +f\" - Training loss: {np.average(running_loss)/len(dataloader)/n_encoders:.4f}\"\n",
    "            +f\" - testing MSE: {np.average(running_test_MSE)/len(dataloader_test)/n_encoders:.4f}\")\n",
    "    train_perf.append(running_loss/len(dataloader)/n_encoders)\n",
    "    test_perf.append(running_test_MSE/len(dataloader_test)/n_encoders)\n"
   ]
  },
  {
   "cell_type": "code",
   "execution_count": 42,
   "id": "0be46dd9",
   "metadata": {},
   "outputs": [
    {
     "data": {
      "image/png": "[encoded data removed]",
      "text/plain": [
       "<Figure size 432x288 with 1 Axes>"
      ]
     },
     "metadata": {
      "needs_background": "light"
     },
     "output_type": "display_data"
    }
   ],
   "source": [
    "fig = plt.figure()\n",
    "ax = plt.axes()\n",
    "train_perf, test_perf = np.array(train_perf), np.array(test_perf)\n",
    "x = range(epochs)\n",
    "for k in range(n_encoders):\n",
    "    ax.plot(x, train_perf[:,k], label=f'training data,  encoder {k}')\n",
    "    ax.plot(x, test_perf[:,k], label=f'testing data, encoder {k}')\n",
    "\n",
    "plt.title(\"Learning curves\")\n",
    "plt.xlabel(\"iterations\")\n",
    "plt.ylabel(\"MSE\")\n",
    "plt.legend()\n",
    "plt.show()"
   ]
  },
  {
   "cell_type": "code",
   "execution_count": 38,
   "id": "bbb58b8e",
   "metadata": {},
   "outputs": [
    {
     "data": {
      "text/plain": [
       "0.003439097135739476"
      ]
     },
     "execution_count": 38,
     "metadata": {},
     "output_type": "execute_result"
    }
   ],
   "source": [
    "#x=running_loss/len(dataloader)/n_encoders\n",
    "np.average(x)"
   ]
  }
 ],
 "metadata": {
  "kernelspec": {
   "display_name": "vfl_env",
   "language": "python",
   "name": "vfl_env"
  },
  "language_info": {
   "codemirror_mode": {
    "name": "ipython",
    "version": 3
   },
   "file_extension": ".py",
   "mimetype": "text/x-python",
   "name": "python",
   "nbconvert_exporter": "python",
   "pygments_lexer": "ipython3",
   "version": "3.10.6"
  }
 },
 "nbformat": 4,
 "nbformat_minor": 5
}
