{
 "cells": [
  {
   "cell_type": "markdown",
   "id": "cd11c00e",
   "metadata": {},
   "source": [
    "## Imports"
   ]
  },
  {
   "cell_type": "code",
   "execution_count": 1,
   "id": "30329b07",
   "metadata": {},
   "outputs": [],
   "source": [
    "# standard library\n",
    "import sys, copy\n",
    "\n",
    "# external packages\n",
    "import torch\n",
    "from torchvision import datasets, transforms\n",
    "from torch import nn, optim\n",
    "from torchvision.datasets import MNIST\n",
    "from torchvision.transforms import ToTensor\n",
    "\n",
    "import numpy as np\n",
    "import matplotlib.pyplot as plt\n",
    "\n",
    "# local packages\n",
    "from utils import add_ids \n",
    "from class_split_data_loader import ClassSplitDataLoader\n",
    "from autoencoder import Autoencoder"
   ]
  },
  {
   "cell_type": "markdown",
   "id": "32cf1346",
   "metadata": {},
   "source": [
    "## Setup"
   ]
  },
  {
   "cell_type": "code",
   "execution_count": 2,
   "id": "1798a752",
   "metadata": {},
   "outputs": [],
   "source": [
    "settings = {\n",
    "    'criterion' : nn.MSELoss(),\n",
    "    'epochs' : 20,\n",
    "    'n_encoders' : 3,\n",
    "    'input_size' : 784,\n",
    "    'hidden_sizes_encoder' : [512, 256],\n",
    "    'hidden_sizes_decoder' : [256, 512],\n",
    "    'encoded_size' : 128,\n",
    "}"
   ]
  },
  {
   "cell_type": "code",
   "execution_count": 3,
   "id": "c5ea23f9",
   "metadata": {},
   "outputs": [],
   "source": [
    "# import data\n",
    "data_train = add_ids(MNIST)(\".\", download=True, transform=ToTensor())\n",
    "data_test  = add_ids(MNIST)(\".\", train=False, download=True, transform=ToTensor())"
   ]
  },
  {
   "cell_type": "code",
   "execution_count": 4,
   "id": "e423b3ad",
   "metadata": {},
   "outputs": [],
   "source": [
    "# and create dataloaders\n",
    "dataloaders = []\n",
    "dataloaders_test = []\n",
    "for k in range(settings['n_encoders']):\n",
    "    dataloader = ClassSplitDataLoader(data_train, class_to_keep=k, remove_data=False, keep_order=True, batch_size=128) \n",
    "    dataloaders.append(dataloader)\n",
    "    dataloader = ClassSplitDataLoader(data_test, class_to_keep=k, remove_data=False, keep_order=True, batch_size=128) \n",
    "    dataloaders_test.append(dataloader)\n",
    "    # partition_dataset uses by default \"remove_data=True, keep_order=False\"\n",
    "\n",
    "# and add them to the settings\n",
    "settings['dataloaders'] = dataloaders\n",
    "settings['dataloaders_test'] = dataloaders_test"
   ]
  },
  {
   "cell_type": "markdown",
   "id": "d8ad32bd",
   "metadata": {},
   "source": [
    "## Creating the network"
   ]
  },
  {
   "cell_type": "code",
   "execution_count": 5,
   "id": "4af41b26",
   "metadata": {},
   "outputs": [],
   "source": [
    "net = Autoencoder(settings)"
   ]
  },
  {
   "cell_type": "markdown",
   "id": "6cd0278d",
   "metadata": {},
   "source": [
    "## Train the network"
   ]
  },
  {
   "cell_type": "code",
   "execution_count": 6,
   "id": "8f07aa72",
   "metadata": {},
   "outputs": [
    {
     "name": "stdout",
     "output_type": "stream",
     "text": [
      "Epoch 0/20 - Training loss: 0.0374 - testing MSE: 0.0366\n",
      "Epoch 1/20 - Training loss: 0.0365 - testing MSE: 0.0363\n",
      "Epoch 2/20 - Training loss: 0.0363 - testing MSE: 0.0361\n",
      "Epoch 3/20 - Training loss: 0.0361 - testing MSE: 0.0361\n",
      "Epoch 4/20 - Training loss: 0.0361 - testing MSE: 0.0360\n",
      "Epoch 5/20 - Training loss: 0.0360 - testing MSE: 0.0360\n",
      "Epoch 6/20 - Training loss: 0.0360 - testing MSE: 0.0359\n",
      "Epoch 7/20 - Training loss: 0.0359 - testing MSE: 0.0358\n",
      "Epoch 8/20 - Training loss: 0.0359 - testing MSE: 0.0358\n",
      "Epoch 9/20 - Training loss: 0.0358 - testing MSE: 0.0358\n",
      "Epoch 10/20 - Training loss: 0.0358 - testing MSE: 0.0358\n",
      "Epoch 11/20 - Training loss: 0.0358 - testing MSE: 0.0358\n",
      "Epoch 12/20 - Training loss: 0.0358 - testing MSE: 0.0357\n",
      "Epoch 13/20 - Training loss: 0.0358 - testing MSE: 0.0357\n",
      "Epoch 14/20 - Training loss: 0.0357 - testing MSE: 0.0357\n",
      "Epoch 15/20 - Training loss: 0.0357 - testing MSE: 0.0357\n",
      "Epoch 16/20 - Training loss: 0.0357 - testing MSE: 0.0357\n",
      "Epoch 17/20 - Training loss: 0.0357 - testing MSE: 0.0357\n",
      "Epoch 18/20 - Training loss: 0.0357 - testing MSE: 0.0357\n",
      "Epoch 19/20 - Training loss: 0.0357 - testing MSE: 0.0357\n"
     ]
    }
   ],
   "source": [
    "train_perf, test_perf = [], []\n",
    "for i in range(settings['epochs']):\n",
    "    \n",
    "    running_loss = np.zeros(settings['n_encoders'])\n",
    "    running_test_MSE = np.zeros(settings['n_encoders'])\n",
    "    \n",
    "    for k in range(settings['n_encoders']):\n",
    "        loss_train, loss_test = net.iter_training_one_encoder(k)\n",
    "        running_loss[k] += loss_train\n",
    "        running_test_MSE[k] += loss_test\n",
    "    \n",
    "    print(f\"Epoch {i}/{settings['epochs']}\"\n",
    "            +f\" - Training loss: {np.average(running_loss)/settings['n_encoders']:.4f}\"\n",
    "            +f\" - testing MSE: {np.average(running_test_MSE)/settings['n_encoders']:.4f}\")\n",
    "    train_perf.append(running_loss/settings['n_encoders'])\n",
    "    test_perf.append(running_test_MSE/settings['n_encoders'])\n"
   ]
  },
  {
   "cell_type": "code",
   "execution_count": 7,
   "id": "fe4bfd4c",
   "metadata": {},
   "outputs": [
    {
     "data": {
      "image/png": "[encoded data removed]",
      "text/plain": [
       "<Figure size 432x288 with 1 Axes>"
      ]
     },
     "metadata": {
      "needs_background": "light"
     },
     "output_type": "display_data"
    }
   ],
   "source": [
    "fig = plt.figure()\n",
    "ax = plt.axes()\n",
    "train_perf, test_perf = np.array(train_perf), np.array(test_perf)\n",
    "x = range(settings['epochs'])\n",
    "for k in range(settings['n_encoders']):\n",
    "    ax.plot(x, train_perf[:,k], label=f'training data,  encoder {k}')\n",
    "    ax.plot(x, test_perf[:,k], label=f'testing data, encoder {k}')\n",
    "\n",
    "plt.title(\"Learning curves\")\n",
    "plt.xlabel(\"iterations\")\n",
    "plt.ylabel(\"MSE\")\n",
    "plt.legend()\n",
    "plt.show()"
   ]
  }
 ],
 "metadata": {
  "kernelspec": {
   "display_name": "vfl_env",
   "language": "python",
   "name": "vfl_env"
  },
  "language_info": {
   "codemirror_mode": {
    "name": "ipython",
    "version": 3
   },
   "file_extension": ".py",
   "mimetype": "text/x-python",
   "name": "python",
   "nbconvert_exporter": "python",
   "pygments_lexer": "ipython3",
   "version": "3.10.7"
  }
 },
 "nbformat": 4,
 "nbformat_minor": 5
}
